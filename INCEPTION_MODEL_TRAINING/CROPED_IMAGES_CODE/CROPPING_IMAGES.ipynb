{
 "cells": [
  {
   "cell_type": "code",
   "execution_count": 15,
   "metadata": {},
   "outputs": [],
   "source": []
  },
  {
   "cell_type": "code",
   "execution_count": 6,
   "metadata": {},
   "outputs": [
    {
     "name": "stdout",
     "output_type": "stream",
     "text": [
      "Cropping complete. Cropped images saved in: D://PROJECTS/ALL_PROJECTS/FREEZING_AND_NON_FREEZING/wavelet_training/data/valid/CROPPED_NF_WSST_ALL\n"
     ]
    }
   ],
   "source": [
    "import os\n",
    "import cv2\n",
    "\n",
    "# Input and output folders\n",
    "input_folder = 'D://PROJECTS/ALL_PROJECTS/FREEZING_AND_NON_FREEZING/wavelet_training/data/valid/NF_WSST_ALL'\n",
    "output_folder = 'D://PROJECTS/ALL_PROJECTS/FREEZING_AND_NON_FREEZING/wavelet_training/data/valid/CROPPED_NF_WSST_ALL'\n",
    "\n",
    "# Create the output folder if it doesn't exist\n",
    "if not os.path.exists(output_folder):\n",
    "    os.makedirs(output_folder)\n",
    "\n",
    "# Crop and save each image in the input folder\n",
    "for filename in os.listdir(input_folder):\n",
    "    if filename.endswith('.jpg') or filename.endswith('.png'):  # Add more extensions if needed\n",
    "        # Load the image\n",
    "        image_path = os.path.join(input_folder, filename)\n",
    "        image = cv2.imread(image_path)\n",
    "\n",
    "        # Define the region to keep (remove 100 pixels from the left, 200 pixels from the right, \n",
    "        # 50 pixels from the top, and 150 pixels from the bottom)\n",
    "        height, width = image.shape[:2]\n",
    "        roi = image[45:height-65, 95:width-155]\n",
    "\n",
    "        # Save the cropped image to the output folder\n",
    "        output_path = os.path.join(output_folder, filename)\n",
    "        cv2.imwrite(output_path, roi)\n",
    "\n",
    "print('Cropping complete. Cropped images saved in:', output_folder)\n"
   ]
  },
  {
   "cell_type": "code",
   "execution_count": 2,
   "metadata": {},
   "outputs": [
    {
     "name": "stdout",
     "output_type": "stream",
     "text": [
      "Cropping complete. Cropped images saved in: D://PROJECTS/ALL_PROJECTS/FREEZING_AND_NON_FREEZING/qtransform/train/cropped_all_nf_cqt\n"
     ]
    }
   ],
   "source": [
    "import os\n",
    "import cv2\n",
    "\n",
    "# Input and output folders\n",
    "input_folder = 'D://PROJECTS/ALL_PROJECTS/FREEZING_AND_NON_FREEZING/qtransform/train/all_nf_cqt'\n",
    "output_folder = 'D://PROJECTS/ALL_PROJECTS/FREEZING_AND_NON_FREEZING/qtransform/train/cropped_all_nf_cqt'\n",
    "\n",
    "# Create the output folder if it doesn't exist\n",
    "if not os.path.exists(output_folder):\n",
    "    os.makedirs(output_folder)\n",
    "\n",
    "# Crop and save each image in the input folder\n",
    "for filename in os.listdir(input_folder):\n",
    "    if filename.endswith('.jpg') or filename.endswith('.png'):  # Add more extensions if needed\n",
    "        # Load the image\n",
    "        image_path = os.path.join(input_folder, filename)\n",
    "        image = cv2.imread(image_path)\n",
    "\n",
    "        # Define the region to keep (remove 100 pixels from the left, 200 pixels from the right, \n",
    "        # 50 pixels from the top, and 150 pixels from the bottom)\n",
    "        height, width = image.shape[:2]\n",
    "        roi = image[45:height-65, 95:width-155]\n",
    "\n",
    "        # Save the cropped image to the output folder\n",
    "        output_path = os.path.join(output_folder, filename)\n",
    "        cv2.imwrite(output_path, roi)\n",
    "\n",
    "print('Cropping complete. Cropped images saved in:', output_folder)\n"
   ]
  },
  {
   "cell_type": "code",
   "execution_count": null,
   "metadata": {},
   "outputs": [],
   "source": []
  }
 ],
 "metadata": {
  "kernelspec": {
   "display_name": "Python 3",
   "language": "python",
   "name": "python3"
  },
  "language_info": {
   "codemirror_mode": {
    "name": "ipython",
    "version": 3
   },
   "file_extension": ".py",
   "mimetype": "text/x-python",
   "name": "python",
   "nbconvert_exporter": "python",
   "pygments_lexer": "ipython3",
   "version": "3.11.3"
  }
 },
 "nbformat": 4,
 "nbformat_minor": 2
}
